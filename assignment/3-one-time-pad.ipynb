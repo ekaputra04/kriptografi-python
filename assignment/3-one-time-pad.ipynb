{
 "cells": [
  {
   "cell_type": "markdown",
   "metadata": {},
   "source": [
    "# Soal 3\n",
    "Diberikan sebuah ciphertext seperti berikut.\n",
    "\n",
    "`TLCYKUMGDFAWTZVOYKLENSZZHYZRWQ`\n",
    "\n",
    "Temukan kunci yang menghasilkan plainteks:\n",
    "\n",
    "`(1) Mr Johnson left his house last night`\n",
    "\n",
    "Lalu temukan kunci lain yang menghasilkan plainteks:\n",
    "\n",
    "`(2) I saw the mysterious plane behind me`"
   ]
  },
  {
   "cell_type": "markdown",
   "metadata": {},
   "source": [
    "Fungsi untuk menentukan nilai dari sebuah huruf"
   ]
  },
  {
   "cell_type": "code",
   "execution_count": 22,
   "metadata": {},
   "outputs": [],
   "source": [
    "def nilai_huruf(string):\n",
    "    # Menginisialisasi dictionary untuk menampung nilai setiap huruf\n",
    "    nilai_huruf = {}\n",
    "    for i in range(26):\n",
    "        # Menggunakan ASCII code untuk mendapatkan nilai setiap huruf\n",
    "        nilai_huruf[chr(97+i)] = i\n",
    "    # Menginisialisasi list untuk menampung hasil\n",
    "    hasil = []\n",
    "    for char in string:\n",
    "        # Mengecek apakah karakter merupakan huruf kecil\n",
    "        if char.isalpha() and char.islower():\n",
    "            hasil.append(nilai_huruf[char])\n",
    "        else:\n",
    "            # Jika bukan huruf kecil, tambahkan karakter aslinya\n",
    "            hasil.append(char)\n",
    "    return hasil"
   ]
  },
  {
   "cell_type": "markdown",
   "metadata": {},
   "source": [
    "Fungsi untuk melakukan dekripsi"
   ]
  },
  {
   "cell_type": "code",
   "execution_count": 23,
   "metadata": {},
   "outputs": [],
   "source": [
    "def dekripsi(ciphertext, plaintext):\n",
    "    # Mengonversi ciphertext dan plaintext menjadi nilai huruf\n",
    "    nilai_ciphertext = nilai_huruf(ciphertext)\n",
    "    nilai_plaintext = nilai_huruf(plaintext)\n",
    "    \n",
    "    # Menghitung nilai key dari proses dekripsi\n",
    "    key = [(nilai_ciphertext[i] - nilai_plaintext[i]) % 26 for i in range(len(plaintext))]\n",
    "    key_huruf = [chr(97 + k) for k in key]\n",
    "    \n",
    "    return key, key_huruf, ''.join(key_huruf)"
   ]
  },
  {
   "cell_type": "markdown",
   "metadata": {},
   "source": [
    "Fungsi untuk mencari kunci dari input plaintext dan ciphertext"
   ]
  },
  {
   "cell_type": "code",
   "execution_count": 24,
   "metadata": {},
   "outputs": [],
   "source": [
    "def find_the_key(plaintext, ciphertext):\n",
    "    # Mendapatkan nilai ciphertext, plaintext, key, dan huruf dari key\n",
    "    nilai_ciphertext = nilai_huruf(ciphertext)\n",
    "    nilai_plaintext = nilai_huruf(plaintext)\n",
    "    key, key_huruf, key_str = dekripsi(ciphertext, plaintext)\n",
    "\n",
    "    # Menampilkan pasangan huruf, nilai dari ciphertext, plaintext, key, dan huruf dari key\n",
    "    print(\"Pasangan huruf dan nilai:\")\n",
    "    for i in range(len(ciphertext)):\n",
    "        print(f\"{ciphertext[i]}: {nilai_ciphertext[i]:<5} | {plaintext[i]}: {nilai_plaintext[i]:<5} | Key: {key[i]:<2} ({key_huruf[i]})\")\n",
    "\n",
    "    print(\"Key :\", key_str)"
   ]
  },
  {
   "cell_type": "markdown",
   "metadata": {},
   "source": [
    "## Key untuk soal (1)"
   ]
  },
  {
   "cell_type": "code",
   "execution_count": 25,
   "metadata": {},
   "outputs": [
    {
     "name": "stdout",
     "output_type": "stream",
     "text": [
      "Pasangan huruf dan nilai:\n",
      "t: 19    | m: 12    | Key: 7  (h)\n",
      "l: 11    | r: 17    | Key: 20 (u)\n",
      "c: 2     | j: 9     | Key: 19 (t)\n",
      "y: 24    | o: 14    | Key: 10 (k)\n",
      "k: 10    | h: 7     | Key: 3  (d)\n",
      "u: 20    | n: 13    | Key: 7  (h)\n",
      "m: 12    | s: 18    | Key: 20 (u)\n",
      "g: 6     | o: 14    | Key: 18 (s)\n",
      "d: 3     | n: 13    | Key: 16 (q)\n",
      "f: 5     | l: 11    | Key: 20 (u)\n",
      "a: 0     | e: 4     | Key: 22 (w)\n",
      "w: 22    | f: 5     | Key: 17 (r)\n",
      "t: 19    | t: 19    | Key: 0  (a)\n",
      "z: 25    | h: 7     | Key: 18 (s)\n",
      "v: 21    | i: 8     | Key: 13 (n)\n",
      "o: 14    | s: 18    | Key: 22 (w)\n",
      "y: 24    | h: 7     | Key: 17 (r)\n",
      "k: 10    | o: 14    | Key: 22 (w)\n",
      "l: 11    | u: 20    | Key: 17 (r)\n",
      "e: 4     | s: 18    | Key: 12 (m)\n",
      "n: 13    | e: 4     | Key: 9  (j)\n",
      "s: 18    | l: 11    | Key: 7  (h)\n",
      "z: 25    | a: 0     | Key: 25 (z)\n",
      "z: 25    | s: 18    | Key: 7  (h)\n",
      "h: 7     | t: 19    | Key: 14 (o)\n",
      "y: 24    | n: 13    | Key: 11 (l)\n",
      "z: 25    | i: 8     | Key: 17 (r)\n",
      "r: 17    | g: 6     | Key: 11 (l)\n",
      "w: 22    | h: 7     | Key: 15 (p)\n",
      "q: 16    | t: 19    | Key: 23 (x)\n",
      "Key : hutkdhusquwrasnwrwrmjhzholrlpx\n"
     ]
    }
   ],
   "source": [
    "ciphertext = \"TLCYKUMGDFAWTZVOYKLENSZZHYZRWQ\".lower()\n",
    "plaintext = \"Mr Johnson left his house last night\".replace(\" \", \"\").lower()\n",
    "\n",
    "find_the_key(plaintext, ciphertext)"
   ]
  },
  {
   "cell_type": "markdown",
   "metadata": {},
   "source": [
    "## Key untuk soal (2)"
   ]
  },
  {
   "cell_type": "code",
   "execution_count": 26,
   "metadata": {},
   "outputs": [
    {
     "name": "stdout",
     "output_type": "stream",
     "text": [
      "Pasangan huruf dan nilai:\n",
      "t: 19    | i: 8     | Key: 11 (l)\n",
      "l: 11    | s: 18    | Key: 19 (t)\n",
      "c: 2     | a: 0     | Key: 2  (c)\n",
      "y: 24    | w: 22    | Key: 2  (c)\n",
      "k: 10    | t: 19    | Key: 17 (r)\n",
      "u: 20    | h: 7     | Key: 13 (n)\n",
      "m: 12    | e: 4     | Key: 8  (i)\n",
      "g: 6     | m: 12    | Key: 20 (u)\n",
      "d: 3     | y: 24    | Key: 5  (f)\n",
      "f: 5     | s: 18    | Key: 13 (n)\n",
      "a: 0     | t: 19    | Key: 7  (h)\n",
      "w: 22    | e: 4     | Key: 18 (s)\n",
      "t: 19    | r: 17    | Key: 2  (c)\n",
      "z: 25    | i: 8     | Key: 17 (r)\n",
      "v: 21    | o: 14    | Key: 7  (h)\n",
      "o: 14    | u: 20    | Key: 20 (u)\n",
      "y: 24    | s: 18    | Key: 6  (g)\n",
      "k: 10    | p: 15    | Key: 21 (v)\n",
      "l: 11    | l: 11    | Key: 0  (a)\n",
      "e: 4     | a: 0     | Key: 4  (e)\n",
      "n: 13    | n: 13    | Key: 0  (a)\n",
      "s: 18    | e: 4     | Key: 14 (o)\n",
      "z: 25    | b: 1     | Key: 24 (y)\n",
      "z: 25    | e: 4     | Key: 21 (v)\n",
      "h: 7     | h: 7     | Key: 0  (a)\n",
      "y: 24    | i: 8     | Key: 16 (q)\n",
      "z: 25    | n: 13    | Key: 12 (m)\n",
      "r: 17    | d: 3     | Key: 14 (o)\n",
      "w: 22    | m: 12    | Key: 10 (k)\n",
      "q: 16    | e: 4     | Key: 12 (m)\n",
      "Key : ltccrniufnhscrhugvaeaoyvaqmokm\n"
     ]
    }
   ],
   "source": [
    "ciphertext = \"TLCYKUMGDFAWTZVOYKLENSZZHYZRWQ\".lower()\n",
    "plaintext = \"I saw the mysterious plane behind me\".replace(\" \", \"\").lower()\n",
    "\n",
    "find_the_key(plaintext, ciphertext)"
   ]
  }
 ],
 "metadata": {
  "kernelspec": {
   "display_name": "Python 3",
   "language": "python",
   "name": "python3"
  },
  "language_info": {
   "codemirror_mode": {
    "name": "ipython",
    "version": 3
   },
   "file_extension": ".py",
   "mimetype": "text/x-python",
   "name": "python",
   "nbconvert_exporter": "python",
   "pygments_lexer": "ipython3",
   "version": "3.11.5"
  }
 },
 "nbformat": 4,
 "nbformat_minor": 2
}
