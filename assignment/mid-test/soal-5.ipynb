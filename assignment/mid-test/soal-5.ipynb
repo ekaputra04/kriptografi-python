{
 "cells": [
  {
   "cell_type": "markdown",
   "metadata": {},
   "source": [
    "# Soal 5\n",
    "\n",
    "Sebuah pesan dienkripsi dengan One Time Pad (OTP). Chiperteks yang dihasilkan adalah:\n",
    "\n",
    "`NKNWWDOKQFBLZALAOCLHBJKT`\n",
    "\n",
    "Temukan dua buah kunci OTP yang berbeda sehingga dekripsi dengan OTP menghasilkan dua buah plainteks berbeda yang bermakna sebagai berikut:\n",
    "\n",
    "### a)\tKunci OTP ke-1 menghasilkan plainteks: \n",
    "\n",
    "`PERGI KE PASAR MEMBELI BERAS`\n",
    "\n",
    "### b)\tKunci OTP ke-2 menghasilkan plainteks: \n",
    "\n",
    "`LANGIT BIRU TERBENTANG LUAS`\n",
    "\n",
    "### c)\tGunakan kunci berikut untuk mendapatkan plainteks dari chiperteks diatas:\n",
    "\n",
    "`UQHWELKZMNBDYWUIOPSHTYKM`\n"
   ]
  },
  {
   "cell_type": "markdown",
   "metadata": {},
   "source": [
    "### Fungsi untuk mencari nilai dari setiap huruf"
   ]
  },
  {
   "cell_type": "code",
   "execution_count": 11,
   "metadata": {},
   "outputs": [],
   "source": [
    "def nilai_huruf(string):\n",
    "    # Menginisialisasi dictionary untuk menampung nilai setiap huruf\n",
    "    nilai_huruf = {}\n",
    "    for i in range(26):\n",
    "        # Menggunakan ASCII code untuk mendapatkan nilai setiap huruf\n",
    "        nilai_huruf[chr(97+i)] = i\n",
    "    # Menginisialisasi list untuk menampung hasil\n",
    "    hasil = []\n",
    "    for char in string:\n",
    "        # Mengecek apakah karakter merupakan huruf kecil\n",
    "        if char.isalpha() and char.islower():\n",
    "            hasil.append(nilai_huruf[char])\n",
    "        else:\n",
    "            # Jika bukan huruf kecil, tambahkan karakter aslinya\n",
    "            hasil.append(char)\n",
    "    return hasil"
   ]
  },
  {
   "cell_type": "markdown",
   "metadata": {},
   "source": [
    "### Fungsi untuk melakukan dekripsi"
   ]
  },
  {
   "cell_type": "code",
   "execution_count": 12,
   "metadata": {},
   "outputs": [],
   "source": [
    "def dekripsi(ciphertext, plaintext):\n",
    "    # Mengonversi ciphertext dan plaintext menjadi nilai huruf\n",
    "    nilai_ciphertext = nilai_huruf(ciphertext)\n",
    "    nilai_plaintext = nilai_huruf(plaintext)\n",
    "    \n",
    "    # Menghitung nilai key dari proses dekripsi\n",
    "    key = [(nilai_ciphertext[i] - nilai_plaintext[i]) % 26 for i in range(len(plaintext))]\n",
    "    key_huruf = [chr(97 + k) for k in key]\n",
    "    \n",
    "    return key, key_huruf, ''.join(key_huruf)"
   ]
  },
  {
   "cell_type": "markdown",
   "metadata": {},
   "source": [
    "## Jawaban a)\n",
    "\n",
    "Ciphertext = `NKNWWDOKQFBLZALAOCLHBJKT`\n",
    "\n",
    "Plaintext = `PERGI KE PASAR MEMBELI BERAS`"
   ]
  },
  {
   "cell_type": "code",
   "execution_count": 13,
   "metadata": {},
   "outputs": [
    {
     "name": "stdout",
     "output_type": "stream",
     "text": [
      "Pasangan huruf dan nilai:\n",
      "Ciphertext : N : 13    | Plaintext : P : 15    | Key : Y : 24\n",
      "Ciphertext : K : 10    | Plaintext : E : 4     | Key : G : 6 \n",
      "Ciphertext : N : 13    | Plaintext : R : 17    | Key : W : 22\n",
      "Ciphertext : W : 22    | Plaintext : G : 6     | Key : Q : 16\n",
      "Ciphertext : W : 22    | Plaintext : I : 8     | Key : O : 14\n",
      "Ciphertext : D : 3     | Plaintext : K : 10    | Key : T : 19\n",
      "Ciphertext : O : 14    | Plaintext : E : 4     | Key : K : 10\n",
      "Ciphertext : K : 10    | Plaintext : P : 15    | Key : V : 21\n",
      "Ciphertext : Q : 16    | Plaintext : A : 0     | Key : Q : 16\n",
      "Ciphertext : F : 5     | Plaintext : S : 18    | Key : N : 13\n",
      "Ciphertext : B : 1     | Plaintext : A : 0     | Key : B : 1 \n",
      "Ciphertext : L : 11    | Plaintext : R : 17    | Key : U : 20\n",
      "Ciphertext : Z : 25    | Plaintext : M : 12    | Key : N : 13\n",
      "Ciphertext : A : 0     | Plaintext : E : 4     | Key : W : 22\n",
      "Ciphertext : L : 11    | Plaintext : M : 12    | Key : Z : 25\n",
      "Ciphertext : A : 0     | Plaintext : B : 1     | Key : Z : 25\n",
      "Ciphertext : O : 14    | Plaintext : E : 4     | Key : K : 10\n",
      "Ciphertext : C : 2     | Plaintext : L : 11    | Key : R : 17\n",
      "Ciphertext : L : 11    | Plaintext : I : 8     | Key : D : 3 \n",
      "Ciphertext : H : 7     | Plaintext : B : 1     | Key : G : 6 \n",
      "Ciphertext : B : 1     | Plaintext : E : 4     | Key : X : 23\n",
      "Ciphertext : J : 9     | Plaintext : R : 17    | Key : S : 18\n",
      "Ciphertext : K : 10    | Plaintext : A : 0     | Key : K : 10\n",
      "Ciphertext : T : 19    | Plaintext : S : 18    | Key : B : 1 \n",
      "Key : YGWQOTKVQNBUNWZZKRDGXSKB\n"
     ]
    }
   ],
   "source": [
    "ciphertext = \"NKNWWDOKQFBLZALAOCLHBJKT\".lower()\n",
    "plaintext = \"PERGI KE PASAR MEMBELI BERAS\".replace(\" \",\"\").lower()\n",
    "\n",
    "# Mendapatkan nilai ciphertext, plaintext, key, dan huruf dari key\n",
    "nilai_ciphertext = nilai_huruf(ciphertext)\n",
    "nilai_plaintext = nilai_huruf(plaintext)\n",
    "key, key_huruf, key_str = dekripsi(ciphertext, plaintext)\n",
    "\n",
    "# Menampilkan pasangan huruf, nilai dari ciphertext, plaintext, key, dan huruf dari key\n",
    "print(\"Pasangan huruf dan nilai:\")\n",
    "for i in range(len(ciphertext)):\n",
    "    print(f\"Ciphertext : {ciphertext[i].upper()} : {nilai_ciphertext[i]:<5} | Plaintext : {plaintext[i].upper()} : {nilai_plaintext[i]:<5} | Key : {key_huruf[i].upper()} : {key[i]:<2}\")\n",
    "\n",
    "print(\"Key :\", key_str.upper())"
   ]
  },
  {
   "cell_type": "markdown",
   "metadata": {},
   "source": [
    "Jadi, key dari soal 5.a yaitu `YGWQOTKVQNBUNWZZKRDGXSKB`"
   ]
  },
  {
   "cell_type": "markdown",
   "metadata": {},
   "source": [
    "## Jawaban b)\n",
    "\n",
    "Ciphertext = `NKNWWDOKQFBLZALAOCLHBJKT`\n",
    "\n",
    "Plaintext = `LANGIT BIRU TERBENTANG LUAS`"
   ]
  },
  {
   "cell_type": "code",
   "execution_count": 14,
   "metadata": {},
   "outputs": [
    {
     "name": "stdout",
     "output_type": "stream",
     "text": [
      "Pasangan huruf dan nilai:\n",
      "Ciphertext : N : 13    | Plaintext : L : 11    | Key : C : 2 \n",
      "Ciphertext : K : 10    | Plaintext : A : 0     | Key : K : 10\n",
      "Ciphertext : N : 13    | Plaintext : N : 13    | Key : A : 0 \n",
      "Ciphertext : W : 22    | Plaintext : G : 6     | Key : Q : 16\n",
      "Ciphertext : W : 22    | Plaintext : I : 8     | Key : O : 14\n",
      "Ciphertext : D : 3     | Plaintext : T : 19    | Key : K : 10\n",
      "Ciphertext : O : 14    | Plaintext : B : 1     | Key : N : 13\n",
      "Ciphertext : K : 10    | Plaintext : I : 8     | Key : C : 2 \n",
      "Ciphertext : Q : 16    | Plaintext : R : 17    | Key : Z : 25\n",
      "Ciphertext : F : 5     | Plaintext : U : 20    | Key : L : 11\n",
      "Ciphertext : B : 1     | Plaintext : T : 19    | Key : I : 8 \n",
      "Ciphertext : L : 11    | Plaintext : E : 4     | Key : H : 7 \n",
      "Ciphertext : Z : 25    | Plaintext : R : 17    | Key : I : 8 \n",
      "Ciphertext : A : 0     | Plaintext : B : 1     | Key : Z : 25\n",
      "Ciphertext : L : 11    | Plaintext : E : 4     | Key : H : 7 \n",
      "Ciphertext : A : 0     | Plaintext : N : 13    | Key : N : 13\n",
      "Ciphertext : O : 14    | Plaintext : T : 19    | Key : V : 21\n",
      "Ciphertext : C : 2     | Plaintext : A : 0     | Key : C : 2 \n",
      "Ciphertext : L : 11    | Plaintext : N : 13    | Key : Y : 24\n",
      "Ciphertext : H : 7     | Plaintext : G : 6     | Key : B : 1 \n",
      "Ciphertext : B : 1     | Plaintext : L : 11    | Key : Q : 16\n",
      "Ciphertext : J : 9     | Plaintext : U : 20    | Key : P : 15\n",
      "Ciphertext : K : 10    | Plaintext : A : 0     | Key : K : 10\n",
      "Ciphertext : T : 19    | Plaintext : S : 18    | Key : B : 1 \n",
      "Key : CKAQOKNCZLIHIZHNVCYBQPKB\n"
     ]
    }
   ],
   "source": [
    "ciphertext = \"NKNWWDOKQFBLZALAOCLHBJKT\".lower()\n",
    "plaintext = \"LANGIT BIRU TERBENTANG LUAS\".replace(\" \",\"\").lower()\n",
    "\n",
    "# Mendapatkan nilai ciphertext, plaintext, key, dan huruf dari key\n",
    "nilai_ciphertext = nilai_huruf(ciphertext)\n",
    "nilai_plaintext = nilai_huruf(plaintext)\n",
    "key, key_huruf, key_str = dekripsi(ciphertext, plaintext)\n",
    "\n",
    "# Menampilkan pasangan huruf, nilai dari ciphertext, plaintext, key, dan huruf dari key\n",
    "print(\"Pasangan huruf dan nilai:\")\n",
    "for i in range(len(ciphertext)):\n",
    "    print(f\"Ciphertext : {ciphertext[i].upper()} : {nilai_ciphertext[i]:<5} | Plaintext : {plaintext[i].upper()} : {nilai_plaintext[i]:<5} | Key : {key_huruf[i].upper()} : {key[i]:<2}\")\n",
    "\n",
    "print(\"Key :\", key_str.upper())"
   ]
  },
  {
   "cell_type": "markdown",
   "metadata": {},
   "source": [
    "Jadi, key dari soal 5.b yaitu `CKAQOKNCZLIHIZHNVCYBQPKB`"
   ]
  },
  {
   "cell_type": "markdown",
   "metadata": {},
   "source": [
    "## Jawaban c)\n",
    "\n",
    "Ciphertext = `NKNWWDOKQFBLZALAOCLHBJKT`\n",
    "\n",
    "Key = `UQHWELKZMNBDYWUIOPSHTYKM`"
   ]
  },
  {
   "cell_type": "markdown",
   "metadata": {},
   "source": [
    "Fungsi untuk melakukan dekripsi dengan input ciphertext dan key menggunakan One Time Pad"
   ]
  },
  {
   "cell_type": "code",
   "execution_count": 15,
   "metadata": {},
   "outputs": [],
   "source": [
    "def dekripsi_one_time_pad(ciphertext, key):\n",
    "    # Mengonversi ciphertext dan key menjadi nilai huruf\n",
    "    nilai_ciphertext = nilai_huruf(ciphertext)\n",
    "    nilai_key = nilai_huruf(key)\n",
    "    \n",
    "    # Menghitung nilai plaintext dari proses dekripsi\n",
    "    nilai_plaintext = [(nilai_ciphertext[i] - nilai_key[i]) % 26 for i in range(len(ciphertext))]\n",
    "    \n",
    "    # Mengonversi nilai plaintext menjadi karakter\n",
    "    plaintext_huruf = [chr(97 + p) for p in nilai_plaintext]\n",
    "    \n",
    "    return nilai_plaintext, plaintext_huruf, ''.join(plaintext_huruf)"
   ]
  },
  {
   "cell_type": "code",
   "execution_count": 16,
   "metadata": {},
   "outputs": [
    {
     "name": "stdout",
     "output_type": "stream",
     "text": [
      "Pasangan huruf dan nilai:\n",
      "Ciphertext : N : 13    | Key : U : 20    | Plaintext : T : 19\n",
      "Ciphertext : K : 10    | Key : Q : 16    | Plaintext : U : 20\n",
      "Ciphertext : N : 13    | Key : H : 7     | Plaintext : G : 6 \n",
      "Ciphertext : W : 22    | Key : W : 22    | Plaintext : A : 0 \n",
      "Ciphertext : W : 22    | Key : E : 4     | Plaintext : S : 18\n",
      "Ciphertext : D : 3     | Key : L : 11    | Plaintext : S : 18\n",
      "Ciphertext : O : 14    | Key : K : 10    | Plaintext : E : 4 \n",
      "Ciphertext : K : 10    | Key : Z : 25    | Plaintext : L : 11\n",
      "Ciphertext : Q : 16    | Key : M : 12    | Plaintext : E : 4 \n",
      "Ciphertext : F : 5     | Key : N : 13    | Plaintext : S : 18\n",
      "Ciphertext : B : 1     | Key : B : 1     | Plaintext : A : 0 \n",
      "Ciphertext : L : 11    | Key : D : 3     | Plaintext : I : 8 \n",
      "Ciphertext : Z : 25    | Key : Y : 24    | Plaintext : B : 1 \n",
      "Ciphertext : A : 0     | Key : W : 22    | Plaintext : E : 4 \n",
      "Ciphertext : L : 11    | Key : U : 20    | Plaintext : R : 17\n",
      "Ciphertext : A : 0     | Key : I : 8     | Plaintext : S : 18\n",
      "Ciphertext : O : 14    | Key : O : 14    | Plaintext : A : 0 \n",
      "Ciphertext : C : 2     | Key : P : 15    | Plaintext : N : 13\n",
      "Ciphertext : L : 11    | Key : S : 18    | Plaintext : T : 19\n",
      "Ciphertext : H : 7     | Key : H : 7     | Plaintext : A : 0 \n",
      "Ciphertext : B : 1     | Key : T : 19    | Plaintext : I : 8 \n",
      "Ciphertext : J : 9     | Key : Y : 24    | Plaintext : L : 11\n",
      "Ciphertext : K : 10    | Key : K : 10    | Plaintext : A : 0 \n",
      "Ciphertext : T : 19    | Key : M : 12    | Plaintext : H : 7 \n",
      "Plaintext: TUGASSELESAIBERSANTAILAH\n"
     ]
    }
   ],
   "source": [
    "# Contoh penggunaan\n",
    "ciphertext = \"NKNWWDOKQFBLZALAOCLHBJKT\".lower()\n",
    "key = \"UQHWELKZMNBDYWUIOPSHTYKM\".lower()\n",
    "\n",
    "nilai_ciphertext = nilai_huruf(ciphertext)\n",
    "nilai_key = nilai_huruf(key)\n",
    "\n",
    "nilai, huruf_palintext, plaintext = dekripsi_one_time_pad(ciphertext, key)\n",
    "\n",
    "# Menampilkan pasangan huruf, nilai dari ciphertext, plaintext, key, dan huruf dari key\n",
    "print(\"Pasangan huruf dan nilai:\")\n",
    "for i in range(len(ciphertext)):\n",
    "    print(f\"Ciphertext : {ciphertext[i].upper()} : {nilai_ciphertext[i]:<5} | Key : {key[i].upper()} : {nilai_key[i]:<5} | Plaintext : {huruf_palintext[i].upper()} : {nilai[i]:<2}\")\n",
    "\n",
    "print(\"Plaintext:\", plaintext.upper())"
   ]
  },
  {
   "cell_type": "markdown",
   "metadata": {},
   "source": [
    "Jadi, plaintext dari soal 5.c yaitu `TUGASSELESAIBERSANTAILAH`, jika diberikan spasi dan tanda baca menjadi `TUGAS SELESAI, BERSANTAILAH`"
   ]
  }
 ],
 "metadata": {
  "kernelspec": {
   "display_name": "Python 3",
   "language": "python",
   "name": "python3"
  },
  "language_info": {
   "codemirror_mode": {
    "name": "ipython",
    "version": 3
   },
   "file_extension": ".py",
   "mimetype": "text/x-python",
   "name": "python",
   "nbconvert_exporter": "python",
   "pygments_lexer": "ipython3",
   "version": "3.11.5"
  }
 },
 "nbformat": 4,
 "nbformat_minor": 2
}
