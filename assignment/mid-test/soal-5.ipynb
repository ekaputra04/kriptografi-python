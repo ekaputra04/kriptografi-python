{
 "cells": [
  {
   "cell_type": "markdown",
   "metadata": {},
   "source": [
    "### Fungsi untuk mencari nilai dari setiap huruf"
   ]
  },
  {
   "cell_type": "code",
   "execution_count": 2,
   "metadata": {},
   "outputs": [],
   "source": [
    "def nilai_huruf(string):\n",
    "    # Menginisialisasi dictionary untuk menampung nilai setiap huruf\n",
    "    nilai_huruf = {}\n",
    "    for i in range(26):\n",
    "        # Menggunakan ASCII code untuk mendapatkan nilai setiap huruf\n",
    "        nilai_huruf[chr(97+i)] = i\n",
    "    # Menginisialisasi list untuk menampung hasil\n",
    "    hasil = []\n",
    "    for char in string:\n",
    "        # Mengecek apakah karakter merupakan huruf kecil\n",
    "        if char.isalpha() and char.islower():\n",
    "            hasil.append(nilai_huruf[char])\n",
    "        else:\n",
    "            # Jika bukan huruf kecil, tambahkan karakter aslinya\n",
    "            hasil.append(char)\n",
    "    return hasil"
   ]
  },
  {
   "cell_type": "markdown",
   "metadata": {},
   "source": [
    "### Fungsi untuk melakukan dekripsi"
   ]
  },
  {
   "cell_type": "code",
   "execution_count": 4,
   "metadata": {},
   "outputs": [],
   "source": [
    "def dekripsi(ciphertext, plaintext):\n",
    "    # Mengonversi ciphertext dan plaintext menjadi nilai huruf\n",
    "    nilai_ciphertext = nilai_huruf(ciphertext)\n",
    "    nilai_plaintext = nilai_huruf(plaintext)\n",
    "    \n",
    "    # Menghitung nilai key dari proses dekripsi\n",
    "    key = [(nilai_ciphertext[i] - nilai_plaintext[i]) % 26 for i in range(len(plaintext))]\n",
    "    key_huruf = [chr(97 + k) for k in key]\n",
    "    \n",
    "    return key, key_huruf, ''.join(key_huruf)"
   ]
  },
  {
   "cell_type": "markdown",
   "metadata": {},
   "source": [
    "## Jawaban a)\n",
    "\n",
    "Ciphertext = `NKNWWDOKQFBLZALAOCLHBJKT`\n",
    "\n",
    "Plaintext = `PERGI KE PASAR MEMBELI BERAS`"
   ]
  },
  {
   "cell_type": "code",
   "execution_count": 8,
   "metadata": {},
   "outputs": [
    {
     "name": "stdout",
     "output_type": "stream",
     "text": [
      "Pasangan huruf dan nilai:\n",
      "n: 13    | p: 15    | Key: 24 (y)\n",
      "k: 10    | e: 4     | Key: 6  (g)\n",
      "n: 13    | r: 17    | Key: 22 (w)\n",
      "w: 22    | g: 6     | Key: 16 (q)\n",
      "w: 22    | i: 8     | Key: 14 (o)\n",
      "d: 3     | k: 10    | Key: 19 (t)\n",
      "o: 14    | e: 4     | Key: 10 (k)\n",
      "k: 10    | p: 15    | Key: 21 (v)\n",
      "q: 16    | a: 0     | Key: 16 (q)\n",
      "f: 5     | s: 18    | Key: 13 (n)\n",
      "b: 1     | a: 0     | Key: 1  (b)\n",
      "l: 11    | r: 17    | Key: 20 (u)\n",
      "z: 25    | m: 12    | Key: 13 (n)\n",
      "a: 0     | e: 4     | Key: 22 (w)\n",
      "l: 11    | m: 12    | Key: 25 (z)\n",
      "a: 0     | b: 1     | Key: 25 (z)\n",
      "o: 14    | e: 4     | Key: 10 (k)\n",
      "c: 2     | l: 11    | Key: 17 (r)\n",
      "l: 11    | i: 8     | Key: 3  (d)\n",
      "h: 7     | b: 1     | Key: 6  (g)\n",
      "b: 1     | e: 4     | Key: 23 (x)\n",
      "j: 9     | r: 17    | Key: 18 (s)\n",
      "k: 10    | a: 0     | Key: 10 (k)\n",
      "t: 19    | s: 18    | Key: 1  (b)\n",
      "ygwqotkvqnbunwzzkrdgxskb\n"
     ]
    }
   ],
   "source": [
    "ciphertext = \"NKNWWDOKQFBLZALAOCLHBJKT\".lower()\n",
    "plaintext = \"PERGI KE PASAR MEMBELI BERAS\".replace(\" \",\"\").lower()\n",
    "\n",
    "# Mendapatkan nilai ciphertext, plaintext, key, dan huruf dari key\n",
    "nilai_ciphertext = nilai_huruf(ciphertext)\n",
    "nilai_plaintext = nilai_huruf(plaintext)\n",
    "key, key_huruf, key_str = dekripsi(ciphertext, plaintext)\n",
    "\n",
    "# Menampilkan pasangan huruf, nilai dari ciphertext, plaintext, key, dan huruf dari key\n",
    "print(\"Pasangan huruf dan nilai:\")\n",
    "for i in range(len(ciphertext)):\n",
    "    print(f\"{ciphertext[i]}: {nilai_ciphertext[i]:<5} | {plaintext[i]}: {nilai_plaintext[i]:<5} | Key: {key[i]:<2} ({key_huruf[i]})\")\n",
    "\n",
    "print(key_str)"
   ]
  },
  {
   "cell_type": "markdown",
   "metadata": {},
   "source": [
    "## Jawaban b)\n",
    "\n",
    "Ciphertext = `NKNWWDOKQFBLZALAOCLHBJKT`\n",
    "\n",
    "Plaintext = `LANGIT BIRU TERBENTANG LUAS`"
   ]
  },
  {
   "cell_type": "code",
   "execution_count": 27,
   "metadata": {},
   "outputs": [
    {
     "name": "stdout",
     "output_type": "stream",
     "text": [
      "Pasangan huruf dan nilai:\n",
      "Ciphertext : N: 13    | Plaintext : L: 11    | Key: 2  (C)\n",
      "Ciphertext : K: 10    | Plaintext : A: 0     | Key: 10 (K)\n",
      "Ciphertext : N: 13    | Plaintext : N: 13    | Key: 0  (A)\n",
      "Ciphertext : W: 22    | Plaintext : G: 6     | Key: 16 (Q)\n",
      "Ciphertext : W: 22    | Plaintext : I: 8     | Key: 14 (O)\n",
      "Ciphertext : D: 3     | Plaintext : T: 19    | Key: 10 (K)\n",
      "Ciphertext : O: 14    | Plaintext : B: 1     | Key: 13 (N)\n",
      "Ciphertext : K: 10    | Plaintext : I: 8     | Key: 2  (C)\n",
      "Ciphertext : Q: 16    | Plaintext : R: 17    | Key: 25 (Z)\n",
      "Ciphertext : F: 5     | Plaintext : U: 20    | Key: 11 (L)\n",
      "Ciphertext : B: 1     | Plaintext : T: 19    | Key: 8  (I)\n",
      "Ciphertext : L: 11    | Plaintext : E: 4     | Key: 7  (H)\n",
      "Ciphertext : Z: 25    | Plaintext : R: 17    | Key: 8  (I)\n",
      "Ciphertext : A: 0     | Plaintext : B: 1     | Key: 25 (Z)\n",
      "Ciphertext : L: 11    | Plaintext : E: 4     | Key: 7  (H)\n",
      "Ciphertext : A: 0     | Plaintext : N: 13    | Key: 13 (N)\n",
      "Ciphertext : O: 14    | Plaintext : T: 19    | Key: 21 (V)\n",
      "Ciphertext : C: 2     | Plaintext : A: 0     | Key: 2  (C)\n",
      "Ciphertext : L: 11    | Plaintext : N: 13    | Key: 24 (Y)\n",
      "Ciphertext : H: 7     | Plaintext : G: 6     | Key: 1  (B)\n",
      "Ciphertext : B: 1     | Plaintext : L: 11    | Key: 16 (Q)\n",
      "Ciphertext : J: 9     | Plaintext : U: 20    | Key: 15 (P)\n",
      "Ciphertext : K: 10    | Plaintext : A: 0     | Key: 10 (K)\n",
      "Ciphertext : T: 19    | Plaintext : S: 18    | Key: 1  (B)\n",
      "ckaqoknczlihizhnvcybqpkb\n"
     ]
    }
   ],
   "source": [
    "ciphertext = \"NKNWWDOKQFBLZALAOCLHBJKT\".lower()\n",
    "plaintext = \"LANGIT BIRU TERBENTANG LUAS\".replace(\" \",\"\").lower()\n",
    "\n",
    "# Mendapatkan nilai ciphertext, plaintext, key, dan huruf dari key\n",
    "nilai_ciphertext = nilai_huruf(ciphertext)\n",
    "nilai_plaintext = nilai_huruf(plaintext)\n",
    "key, key_huruf, key_str = dekripsi(ciphertext, plaintext)\n",
    "\n",
    "# Menampilkan pasangan huruf, nilai dari ciphertext, plaintext, key, dan huruf dari key\n",
    "print(\"Pasangan huruf dan nilai:\")\n",
    "for i in range(len(ciphertext)):\n",
    "    print(f\"Ciphertext : {ciphertext[i].upper()}: {nilai_ciphertext[i]:<5} | Plaintext : {plaintext[i].upper()}: {nilai_plaintext[i]:<5} | Key: {key[i]:<2} ({key_huruf[i].upper()})\")\n",
    "\n",
    "print(key_str)"
   ]
  },
  {
   "cell_type": "markdown",
   "metadata": {},
   "source": [
    "## Jawaban c)\n",
    "\n",
    "Ciphertext = `NKNWWDOKQFBLZALAOCLHBJKT`\n",
    "\n",
    "Key = `UQHWELKZMNBDYWUIOPSHTYKM`"
   ]
  },
  {
   "cell_type": "markdown",
   "metadata": {},
   "source": [
    "Fungsi untuk melakukan dekripsi dengan input ciphertext dan key menggunakan One Time Pad"
   ]
  },
  {
   "cell_type": "code",
   "execution_count": 14,
   "metadata": {},
   "outputs": [],
   "source": [
    "def dekripsi_one_time_pad(ciphertext, key):\n",
    "    # Mengonversi ciphertext dan key menjadi nilai huruf\n",
    "    nilai_ciphertext = nilai_huruf(ciphertext)\n",
    "    nilai_key = nilai_huruf(key)\n",
    "    \n",
    "    # Menghitung nilai plaintext dari proses dekripsi\n",
    "    nilai_plaintext = [(nilai_ciphertext[i] - nilai_key[i]) % 26 for i in range(len(ciphertext))]\n",
    "    \n",
    "    # Mengonversi nilai plaintext menjadi karakter\n",
    "    plaintext_huruf = [chr(97 + p) for p in nilai_plaintext]\n",
    "    \n",
    "    return nilai_plaintext, plaintext_huruf, ''.join(plaintext_huruf)"
   ]
  },
  {
   "cell_type": "code",
   "execution_count": 28,
   "metadata": {},
   "outputs": [
    {
     "name": "stdout",
     "output_type": "stream",
     "text": [
      "Pasangan huruf dan nilai:\n",
      "Ciphertext : N: 13    | Key : U: 20    | Plaintext: 19 (T)\n",
      "Ciphertext : K: 10    | Key : Q: 16    | Plaintext: 20 (U)\n",
      "Ciphertext : N: 13    | Key : H: 7     | Plaintext: 6  (G)\n",
      "Ciphertext : W: 22    | Key : W: 22    | Plaintext: 0  (A)\n",
      "Ciphertext : W: 22    | Key : E: 4     | Plaintext: 18 (S)\n",
      "Ciphertext : D: 3     | Key : L: 11    | Plaintext: 18 (S)\n",
      "Ciphertext : O: 14    | Key : K: 10    | Plaintext: 4  (E)\n",
      "Ciphertext : K: 10    | Key : Z: 25    | Plaintext: 11 (L)\n",
      "Ciphertext : Q: 16    | Key : M: 12    | Plaintext: 4  (E)\n",
      "Ciphertext : F: 5     | Key : N: 13    | Plaintext: 18 (S)\n",
      "Ciphertext : B: 1     | Key : B: 1     | Plaintext: 0  (A)\n",
      "Ciphertext : L: 11    | Key : D: 3     | Plaintext: 8  (I)\n",
      "Ciphertext : Z: 25    | Key : Y: 24    | Plaintext: 1  (B)\n",
      "Ciphertext : A: 0     | Key : W: 22    | Plaintext: 4  (E)\n",
      "Ciphertext : L: 11    | Key : U: 20    | Plaintext: 17 (R)\n",
      "Ciphertext : A: 0     | Key : I: 8     | Plaintext: 18 (S)\n",
      "Ciphertext : O: 14    | Key : O: 14    | Plaintext: 0  (A)\n",
      "Ciphertext : C: 2     | Key : P: 15    | Plaintext: 13 (N)\n",
      "Ciphertext : L: 11    | Key : S: 18    | Plaintext: 19 (T)\n",
      "Ciphertext : H: 7     | Key : H: 7     | Plaintext: 0  (A)\n",
      "Ciphertext : B: 1     | Key : T: 19    | Plaintext: 8  (I)\n",
      "Ciphertext : J: 9     | Key : Y: 24    | Plaintext: 11 (L)\n",
      "Ciphertext : K: 10    | Key : K: 10    | Plaintext: 0  (A)\n",
      "Ciphertext : T: 19    | Key : M: 12    | Plaintext: 7  (H)\n",
      "Plaintext: tugasselesaibersantailah\n"
     ]
    }
   ],
   "source": [
    "def dekripsi_one_time_pad(ciphertext, key):\n",
    "    # Mengonversi ciphertext dan key menjadi nilai huruf\n",
    "    nilai_ciphertext = nilai_huruf(ciphertext)\n",
    "    nilai_key = nilai_huruf(key)\n",
    "    \n",
    "    # Menghitung nilai plaintext dari proses dekripsi\n",
    "    nilai_plaintext = [(nilai_ciphertext[i] - nilai_key[i]) % 26 for i in range(len(ciphertext))]\n",
    "    \n",
    "    # Mengonversi nilai plaintext menjadi karakter\n",
    "    plaintext_huruf = [chr(97 + p) for p in nilai_plaintext]\n",
    "    \n",
    "    return nilai_plaintext , plaintext_huruf,''.join(plaintext_huruf)\n",
    "\n",
    "# Contoh penggunaan\n",
    "ciphertext = \"NKNWWDOKQFBLZALAOCLHBJKT\".lower()\n",
    "key = \"UQHWELKZMNBDYWUIOPSHTYKM\".lower()\n",
    "\n",
    "nilai_ciphertext = nilai_huruf(ciphertext)\n",
    "nilai_key = nilai_huruf(key)\n",
    "\n",
    "nilai, huruf_palintext, plaintext = dekripsi_one_time_pad(ciphertext, key)\n",
    "\n",
    "# Menampilkan pasangan huruf, nilai dari ciphertext, plaintext, key, dan huruf dari key\n",
    "print(\"Pasangan huruf dan nilai:\")\n",
    "for i in range(len(ciphertext)):\n",
    "    print(f\"Ciphertext : {ciphertext[i].upper()}: {nilai_ciphertext[i]:<5} | Key : {key[i].upper()}: {nilai_key[i]:<5} | Plaintext: {nilai[i]:<2} ({huruf_palintext[i].upper()})\")\n",
    "\n",
    "\n",
    "print(\"Plaintext:\", plaintext)"
   ]
  }
 ],
 "metadata": {
  "kernelspec": {
   "display_name": "Python 3",
   "language": "python",
   "name": "python3"
  },
  "language_info": {
   "codemirror_mode": {
    "name": "ipython",
    "version": 3
   },
   "file_extension": ".py",
   "mimetype": "text/x-python",
   "name": "python",
   "nbconvert_exporter": "python",
   "pygments_lexer": "ipython3",
   "version": "3.11.5"
  }
 },
 "nbformat": 4,
 "nbformat_minor": 2
}
