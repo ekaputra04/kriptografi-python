{
 "cells": [
  {
   "cell_type": "markdown",
   "metadata": {},
   "source": [
    "# Soal 4\n",
    "\n",
    "Sebuah pesan rahasia (Bahasa Indonesia) sepanjang 35 karakter dienkripsi dengan super enkripsi. Pertama pesan dienkripsi dengan cipher transposisi berbasis kolom dengan ukuran kunci kolom 7, selanjutnya dienkripsi kembali dengan chiper substitusi homofonik (tabel homofon pada file `homofon-table.json`) yang menghasilkan cipherteks akhir adalah:\n",
    "\n",
    "`FYBUFY MLJOJO HEUAFA XPXPSI HEBUHE VTJOVT`\n",
    "\n",
    "`TWBUVS XPBUBU PNBUML HEXPUA MLJOFA FYML`\n",
    "\n",
    "Dekripsilah cipherteks tersebut untuk mendapatkan kembali plainteksnya!\n"
   ]
  },
  {
   "cell_type": "markdown",
   "metadata": {},
   "source": [
    "Import library dan mendata tabel homofon"
   ]
  },
  {
   "cell_type": "code",
   "execution_count": 29,
   "metadata": {},
   "outputs": [],
   "source": [
    "import json\n",
    "\n",
    "# Membaca tabel homofon dari file JSON\n",
    "with open('homofon-table.json', 'r') as file:\n",
    "    homofon_table = json.load(file)"
   ]
  },
  {
   "cell_type": "code",
   "execution_count": 30,
   "metadata": {},
   "outputs": [
    {
     "data": {
      "text/plain": [
       "{'a': ['BU', 'TX', 'YR', 'MB', 'OP', 'TF', 'QA'],\n",
       " 'b': ['ER', 'FY'],\n",
       " 'c': ['IU', 'CW', 'PL'],\n",
       " 'd': ['NQ', 'VT', 'OA', 'GP'],\n",
       " 'e': ['ZX',\n",
       "  'BR',\n",
       "  'JO',\n",
       "  'EW',\n",
       "  'HT',\n",
       "  'KC',\n",
       "  'ND',\n",
       "  'SO',\n",
       "  'BO',\n",
       "  'VE',\n",
       "  'KL',\n",
       "  'JU',\n",
       "  'HR'],\n",
       " 'f': ['EP', 'MS'],\n",
       " 'g': ['TW', 'HL'],\n",
       " 'h': ['OU', 'HE', 'JK', 'AT', 'KY', 'IQ'],\n",
       " 'i': ['GT', 'UA', 'CN', 'HI', 'WO', 'ZF', 'FI'],\n",
       " 'j': ['OC'],\n",
       " 'k': ['LV'],\n",
       " 'l': ['TY', 'JO', 'DR', 'ML'],\n",
       " 'm': ['GR', 'KU'],\n",
       " 'n': ['BE', 'TF', 'XO', 'LG', 'PS', 'CD', 'IE'],\n",
       " 'o': ['YA', 'HU', 'VS', 'KP', 'BD', 'JZ', 'OL'],\n",
       " 'p': ['IR', 'JA'],\n",
       " 'q': ['SP'],\n",
       " 'r': ['UL', 'XP', 'TA', 'RL', 'LW', 'DO'],\n",
       " 's': ['EQ', 'IF', 'TK', 'PN', 'GL', 'TB'],\n",
       " 't': ['SI', 'GD', 'KI', 'MA', 'EL', 'ET', 'MS', 'MT', 'TL'],\n",
       " 'u': ['FA', 'BI', 'SF'],\n",
       " 'v': ['GM'],\n",
       " 'w': ['TG', 'AS'],\n",
       " 'x': ['FI', 'TM'],\n",
       " 'y': ['SR', 'DS'],\n",
       " 'z': ['AR']}"
      ]
     },
     "execution_count": 30,
     "metadata": {},
     "output_type": "execute_result"
    }
   ],
   "source": [
    "homofon_table"
   ]
  },
  {
   "cell_type": "markdown",
   "metadata": {},
   "source": [
    "### Fungsi untuk melakukan dekripsi dengan teknik substitusi homofonik"
   ]
  },
  {
   "cell_type": "code",
   "execution_count": 31,
   "metadata": {},
   "outputs": [],
   "source": [
    "# Fungsi untuk mendekripsi cipherteks\n",
    "def decrypt_ciphertext(ciphertext):\n",
    "    plaintext = ''\n",
    "    for i in range(0, len(ciphertext), 2):\n",
    "        bigram = ciphertext[i:i+2]\n",
    "        for char, homophones in homofon_table.items():\n",
    "            if bigram in homophones:\n",
    "                plaintext += char\n",
    "                break\n",
    "    return plaintext"
   ]
  },
  {
   "cell_type": "code",
   "execution_count": 32,
   "metadata": {},
   "outputs": [
    {
     "name": "stdout",
     "output_type": "stream",
     "text": [
      "bableehiurrthahded\n",
      "gaoraasalhrileubl\n",
      "Gabungan plaintext = bableehiurrthahdedgaoraasalhrileubl\n"
     ]
    }
   ],
   "source": [
    "# Mengambil input cipherteks dari pengguna\n",
    "ciphertext = [\"FYBUFY MLJOJO HEUAFA XPXPSI HEBUHE VTJOVT\",\n",
    "              \"TWBUVS XPBUBU PNBUML HEXPUA MLJOFA FYML\"]\n",
    "\n",
    "# Mendekripsi cipherteks\n",
    "plaintext1 = decrypt_ciphertext(ciphertext[0].replace(\" \",\"\"))\n",
    "plaintext2 = decrypt_ciphertext(ciphertext[1].replace(\" \",\"\"))\n",
    "full_plaintext = plaintext1 + plaintext2\n",
    "\n",
    "print(plaintext1)\n",
    "print(plaintext2)\n",
    "print(\"Gabungan plaintext =\", full_plaintext)"
   ]
  },
  {
   "cell_type": "markdown",
   "metadata": {},
   "source": [
    "### Fungsi untuk melakukan dekripsi dengan teknik transposisi"
   ]
  },
  {
   "cell_type": "code",
   "execution_count": 33,
   "metadata": {},
   "outputs": [],
   "source": [
    "def dekripsi_transformasi(ciphertext, key):\n",
    "    # Menghapus spasi (jika ada)\n",
    "    ciphertext = ciphertext.replace(\" \", \"\")\n",
    "\n",
    "    # Menghitung panjang ciphertext\n",
    "    length = len(ciphertext)\n",
    "\n",
    "    # Menghitung jumlah kolom\n",
    "    cols = key\n",
    "    rows = length // cols\n",
    "\n",
    "    # Menangani kasus sisa kolom\n",
    "    if length % cols != 0:\n",
    "        rows += 1\n",
    "\n",
    "    # Membuat matriks dengan ukuran rows x cols\n",
    "    matrix = ['' for _ in range(rows)]\n",
    "\n",
    "    # Mengisi matriks dengan ciphertext secara vertikal\n",
    "    idx = 0\n",
    "    for j in range(cols):\n",
    "        for i in range(rows):\n",
    "            if idx < length:\n",
    "                matrix[i] += ciphertext[idx]\n",
    "                idx += 1\n",
    "\n",
    "    # Mendekripsi dengan membaca matriks secara horizontal\n",
    "    plaintext = ''\n",
    "    for i in range(rows):\n",
    "        plaintext += matrix[i]\n",
    "\n",
    "    return plaintext"
   ]
  },
  {
   "cell_type": "markdown",
   "metadata": {},
   "source": [
    "Mencari plaintext dengan teknik transformasi"
   ]
  },
  {
   "cell_type": "code",
   "execution_count": 34,
   "metadata": {},
   "outputs": [
    {
     "name": "stdout",
     "output_type": "stream",
     "text": [
      "Plaintext: BERDOALAHTERLEBIHDAHULUAGARBERHASIL\n"
     ]
    }
   ],
   "source": [
    "ciphertext = full_plaintext\n",
    "key = 7\n",
    "\n",
    "plaintext = dekripsi_transformasi(ciphertext, key)\n",
    "print(\"Plaintext:\", plaintext.upper())"
   ]
  },
  {
   "cell_type": "markdown",
   "metadata": {},
   "source": [
    "Jadi, plaintext dari soal 4 yaitu `BERDOALAH TERLEBIH DAHULU AGAR BERHASIL`"
   ]
  }
 ],
 "metadata": {
  "kernelspec": {
   "display_name": "Python 3",
   "language": "python",
   "name": "python3"
  },
  "language_info": {
   "codemirror_mode": {
    "name": "ipython",
    "version": 3
   },
   "file_extension": ".py",
   "mimetype": "text/x-python",
   "name": "python",
   "nbconvert_exporter": "python",
   "pygments_lexer": "ipython3",
   "version": "3.11.5"
  }
 },
 "nbformat": 4,
 "nbformat_minor": 2
}
