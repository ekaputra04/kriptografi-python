{
 "cells": [
  {
   "cell_type": "markdown",
   "metadata": {},
   "source": [
    "# Soal 1\n",
    "Diberikan ciphertext dengan Caesar Cipher sebagai berikut.\n",
    "\n",
    "`MXXFT QQHUX WMDYM QHQDO DQMFQ PNKYQ EUZOQ`\n",
    "\n",
    "`ARAXP AZMOO AGZFA RYKNQ SUZZU ZSXQE ESDQQ`\n",
    "\n",
    "`PTMFD QPMZP USZAD MZOQN ADZAR YKOAZ PGOFE`\n",
    "\n",
    "`BQQOT MZPFT AGSTF UZAIO AZRQE EABQZ XKMZP RGXXK`\n",
    "\n",
    "Kriptanalisislah ciphertext tersebut untuk memperoleh plainteksnya. Berapa nilai pergeseran hurufnya?"
   ]
  },
  {
   "cell_type": "markdown",
   "metadata": {},
   "source": [
    "Inisialisasi ciphertext"
   ]
  },
  {
   "cell_type": "code",
   "execution_count": 24,
   "metadata": {},
   "outputs": [],
   "source": [
    "ciphertext = [\n",
    "    \"MXXFT QQHUX WMDYM QHQDO DQMFQ PNKYQ EUZOQ\",\n",
    "    \"ARAXP AZMOO AGZFA RYKNQ SUZZU ZSXQE ESDQQ\",\n",
    "    \"PTMFD QPMZP USZAD MZOQN ADZAR YKOAZ PGOFE\",\n",
    "    \"BQQOT MZPFT AGSTF UZAIO AZRQE EABQZ XKMZP RGXXK\"\n",
    "]"
   ]
  },
  {
   "cell_type": "markdown",
   "metadata": {},
   "source": [
    "Fungsi untuk melakukan dekripsi pada caesar cipher"
   ]
  },
  {
   "cell_type": "code",
   "execution_count": 25,
   "metadata": {},
   "outputs": [],
   "source": [
    "# Fungsi melakukan dekripsi dengan caesar cipher\n",
    "def decrypt_caesar_cipher(ciphertext, shift):\n",
    "    decrypted_text = ''\n",
    "    for char in ciphertext:\n",
    "        if char.isalpha():\n",
    "            shifted = ord(char) - shift\n",
    "            if char.islower():\n",
    "                if shifted < ord('a'):\n",
    "                    shifted += 26\n",
    "            elif char.isupper():\n",
    "                if shifted < ord('A'):\n",
    "                    shifted += 26\n",
    "            decrypted_text += chr(shifted)\n",
    "        else:\n",
    "            decrypted_text += char\n",
    "    return decrypted_text"
   ]
  },
  {
   "cell_type": "markdown",
   "metadata": {},
   "source": [
    "Mengecek key dari 0 hingga 25 yang memungkinkan, dengan mengecek hanya pada baris pertama."
   ]
  },
  {
   "cell_type": "code",
   "execution_count": 26,
   "metadata": {},
   "outputs": [],
   "source": [
    "def decrypt_multiple_times(ciphertext):\n",
    "    for i in range(26):\n",
    "        decrypted_text = decrypt_caesar_cipher(ciphertext, i)\n",
    "        print(f\"With key {i}: {decrypted_text}\")"
   ]
  },
  {
   "cell_type": "code",
   "execution_count": 27,
   "metadata": {},
   "outputs": [
    {
     "name": "stdout",
     "output_type": "stream",
     "text": [
      "With key 0: MXXFT QQHUX WMDYM QHQDO DQMFQ PNKYQ EUZOQ\n",
      "With key 1: LWWES PPGTW VLCXL PGPCN CPLEP OMJXP DTYNP\n",
      "With key 2: KVVDR OOFSV UKBWK OFOBM BOKDO NLIWO CSXMO\n",
      "With key 3: JUUCQ NNERU TJAVJ NENAL ANJCN MKHVN BRWLN\n",
      "With key 4: ITTBP MMDQT SIZUI MDMZK ZMIBM LJGUM AQVKM\n",
      "With key 5: HSSAO LLCPS RHYTH LCLYJ YLHAL KIFTL ZPUJL\n",
      "With key 6: GRRZN KKBOR QGXSG KBKXI XKGZK JHESK YOTIK\n",
      "With key 7: FQQYM JJANQ PFWRF JAJWH WJFYJ IGDRJ XNSHJ\n",
      "With key 8: EPPXL IIZMP OEVQE IZIVG VIEXI HFCQI WMRGI\n",
      "With key 9: DOOWK HHYLO NDUPD HYHUF UHDWH GEBPH VLQFH\n",
      "With key 10: CNNVJ GGXKN MCTOC GXGTE TGCVG FDAOG UKPEG\n",
      "With key 11: BMMUI FFWJM LBSNB FWFSD SFBUF ECZNF TJODF\n",
      "With key 12: ALLTH EEVIL KARMA EVERC REATE DBYME SINCE\n",
      "With key 13: ZKKSG DDUHK JZQLZ DUDQB QDZSD CAXLD RHMBD\n",
      "With key 14: YJJRF CCTGJ IYPKY CTCPA PCYRC BZWKC QGLAC\n",
      "With key 15: XIIQE BBSFI HXOJX BSBOZ OBXQB AYVJB PFKZB\n",
      "With key 16: WHHPD AAREH GWNIW ARANY NAWPA ZXUIA OEJYA\n",
      "With key 17: VGGOC ZZQDG FVMHV ZQZMX MZVOZ YWTHZ NDIXZ\n",
      "With key 18: UFFNB YYPCF EULGU YPYLW LYUNY XVSGY MCHWY\n",
      "With key 19: TEEMA XXOBE DTKFT XOXKV KXTMX WURFX LBGVX\n",
      "With key 20: SDDLZ WWNAD CSJES WNWJU JWSLW VTQEW KAFUW\n",
      "With key 21: RCCKY VVMZC BRIDR VMVIT IVRKV USPDV JZETV\n",
      "With key 22: QBBJX UULYB AQHCQ ULUHS HUQJU TROCU IYDSU\n",
      "With key 23: PAAIW TTKXA ZPGBP TKTGR GTPIT SQNBT HXCRT\n",
      "With key 24: OZZHV SSJWZ YOFAO SJSFQ FSOHS RPMAS GWBQS\n",
      "With key 25: NYYGU RRIVY XNEZN RIREP ERNGR QOLZR FVAPR\n"
     ]
    }
   ],
   "source": [
    "decrypt_multiple_times(ciphertext[0])"
   ]
  },
  {
   "cell_type": "markdown",
   "metadata": {},
   "source": [
    "Didapatkan plaintext yang paling memiliki makna adalah key = 12. Maka selanjutnya akan dilakukan proses dekripsi pada semua ciphertext dengan key = 12."
   ]
  },
  {
   "cell_type": "code",
   "execution_count": 28,
   "metadata": {},
   "outputs": [
    {
     "name": "stdout",
     "output_type": "stream",
     "text": [
      "ALLTH EEVIL KARMA EVERC REATE DBYME SINCE\n",
      "OFOLD ONACC OUNTO FMYBE GINNI NGLES SGREE\n",
      "DHATR EDAND IGNOR ANCEB ORNOF MYCON DUCTS\n",
      "PEECH ANDTH OUGHT INOWC ONFES SOPEN LYAND FULLY\n"
     ]
    }
   ],
   "source": [
    "print(decrypt_caesar_cipher(ciphertext[0], 12))\n",
    "print(decrypt_caesar_cipher(ciphertext[1], 12))\n",
    "print(decrypt_caesar_cipher(ciphertext[2], 12))\n",
    "print(decrypt_caesar_cipher(ciphertext[3], 12))"
   ]
  },
  {
   "cell_type": "markdown",
   "metadata": {},
   "source": [
    "Setelah semua plaintext ditemukan, selanjutnya diproses kata per kata, kalimat per kalimat maka diberikan spasi dalam plaintext di atas dan didapatkan plaintext yang sudah mempunyai makna seperti berikut.\n",
    "\n",
    "`All the evil karma, ever created by me since of old;`\n",
    "\n",
    "`on account of my beginningless greed, hatred and ignorance;`\n",
    "\n",
    "`born of my conduct, speech and thought;`\n",
    "\n",
    "`I now confess openly and fully.`"
   ]
  }
 ],
 "metadata": {
  "kernelspec": {
   "display_name": "Python 3",
   "language": "python",
   "name": "python3"
  },
  "language_info": {
   "codemirror_mode": {
    "name": "ipython",
    "version": 3
   },
   "file_extension": ".py",
   "mimetype": "text/x-python",
   "name": "python",
   "nbconvert_exporter": "python",
   "pygments_lexer": "ipython3",
   "version": "3.11.5"
  }
 },
 "nbformat": 4,
 "nbformat_minor": 2
}
