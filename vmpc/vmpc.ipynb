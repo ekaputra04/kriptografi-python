{
 "cells": [
  {
   "cell_type": "code",
   "execution_count": 40,
   "metadata": {},
   "outputs": [],
   "source": [
    "def vmpc_encrypt(plaintext, key, num_iterations):\n",
    "    # Konversi kunci ke nilai heksadesimal\n",
    "    key_hex = ''.join(f'{ord(c):02x}' for c in key)\n",
    "    \n",
    "    # Inisialisasi variabel internal (register)\n",
    "    registers = [int(key_hex[i:i+2], 16) for i in range(0, len(key_hex), 2)]\n",
    "    num_registers = len(registers)\n",
    "    \n",
    "    # Inisialisasi memori\n",
    "    memory = [i for i in range(256)]\n",
    "    \n",
    "    # Proses permutasi\n",
    "    for _ in range(num_iterations):\n",
    "        for i in range(num_registers):\n",
    "            temp = memory[registers[i]]\n",
    "            memory[registers[i]] = memory[temp]\n",
    "            registers[i] = (registers[i] + temp) % 256\n",
    "    \n",
    "    # Enkripsi data\n",
    "    ciphertext = bytearray()\n",
    "    for char in plaintext:\n",
    "        char_value = ord(char)\n",
    "        for i in range(num_registers):\n",
    "            temp = memory[registers[i]]\n",
    "            char_value ^= temp\n",
    "            memory[registers[i]] = memory[temp]\n",
    "            registers[i] = (registers[i] + temp) % 256\n",
    "        ciphertext.append(char_value)\n",
    "    \n",
    "    return bytes(ciphertext), bytes(registers)"
   ]
  },
  {
   "cell_type": "code",
   "execution_count": 41,
   "metadata": {},
   "outputs": [],
   "source": [
    "def vmpc_decrypt(ciphertext, key, num_iterations):\n",
    "    # Konversi kunci ke nilai heksadesimal\n",
    "    key_hex = ''.join(f'{ord(c):02x}' for c in key)\n",
    "    \n",
    "    # Inisialisasi variabel internal (register)\n",
    "    registers = [int(key_hex[i:i+2], 16) for i in range(0, len(key_hex), 2)]\n",
    "    num_registers = len(registers)\n",
    "    \n",
    "    # Inisialisasi memori\n",
    "    memory = [i for i in range(256)]\n",
    "    \n",
    "    # Proses permutasi\n",
    "    for _ in range(num_iterations):\n",
    "        for i in range(num_registers):\n",
    "            temp = memory[registers[i]]\n",
    "            memory[registers[i]] = memory[temp]\n",
    "            registers[i] = (registers[i] + temp) % 256\n",
    "    \n",
    "    # Dekripsi data\n",
    "    plaintext = bytearray()\n",
    "    for byte in ciphertext:\n",
    "        for i in range(num_registers):\n",
    "            temp = memory[registers[i]]\n",
    "            byte ^= temp\n",
    "            memory[registers[i]] = memory[temp]\n",
    "            registers[i] = (registers[i] + temp) % 256\n",
    "        plaintext.append(byte)\n",
    "    \n",
    "    return bytes(plaintext).decode(), bytes(registers)\n"
   ]
  },
  {
   "cell_type": "code",
   "execution_count": 42,
   "metadata": {},
   "outputs": [],
   "source": [
    "def ascii_to_hex(ascii_string):\n",
    "    hex_values = []\n",
    "    for char in ascii_string:\n",
    "        hex_value = hex(ord(char))[2:].zfill(2)  # Mengonversi karakter ke heksadesimal\n",
    "        hex_values.append(hex_value)\n",
    "    return ''.join(hex_values)"
   ]
  },
  {
   "cell_type": "code",
   "execution_count": 43,
   "metadata": {},
   "outputs": [],
   "source": [
    "def hex_to_bin(hex_str):\n",
    "    # Inisialisasi string biner kosong\n",
    "    bin_str = ''\n",
    "    \n",
    "    # Melakukan konversi setiap digit heksadesimal ke biner\n",
    "    for i in range(0, len(hex_str), 2):\n",
    "        # Mengambil setiap dua digit heksadesimal\n",
    "        hex_byte = hex_str[i:i+2]\n",
    "        \n",
    "        # Mengonversi nilai heksadesimal ke desimal\n",
    "        decimal = int(hex_byte, 16)\n",
    "        \n",
    "        # Mengonversi nilai desimal ke biner (8 bit)\n",
    "        bin_val = bin(decimal)[2:].zfill(8)\n",
    "        \n",
    "        # Menggabungkan bit-bit biner ke string biner\n",
    "        bin_str += bin_val\n",
    "    \n",
    "    return bin_str"
   ]
  },
  {
   "cell_type": "code",
   "execution_count": 45,
   "metadata": {},
   "outputs": [
    {
     "name": "stdout",
     "output_type": "stream",
     "text": [
      "================== Enkripsi ==================\n",
      "Plaintext     : VMPC\n",
      "Kunci         : KEY\n",
      "Jumlah Iterasi: 2\n",
      "Plaintext hex : 564d5043\n",
      "Key hex       : 4b4559\n",
      "Registers     : c04040\n",
      "Ciphertext hex: 0af520a3\n",
      "================== Dekripsi ==================\n",
      "Ciphertext    : 0af520a3\n",
      "Kunci         : KEY\n",
      "Jumlah Iterasi: 2\n",
      "Ciphertext hex: 0af520a3\n",
      "Registers     : c04040\n",
      "Plaintext     : VMPC\n"
     ]
    }
   ],
   "source": [
    "# contoh enkripsi\n",
    "plaintext = \"VMPC\"\n",
    "key = \"KEY\"\n",
    "num_iterations = 2  # Jumlah iterasi permutasi\n",
    "ciphertext, registers = vmpc_encrypt(plaintext, key, num_iterations)\n",
    "print(\"================== Enkripsi ==================\")\n",
    "print(f\"Plaintext     : {plaintext}\")\n",
    "print(f\"Kunci         : {key}\")\n",
    "print(f\"Jumlah Iterasi: {num_iterations}\")\n",
    "print(f\"Plaintext hex : {ascii_to_hex(plaintext)}\")\n",
    "print(f\"Key hex       : {ascii_to_hex(key)}\")\n",
    "print(f\"Registers     : {registers.hex()}\")\n",
    "print(f\"Ciphertext hex: {ciphertext.hex()}\")\n",
    "\n",
    "print(\"================== Dekripsi ==================\")\n",
    "\n",
    "ciphertext = bytes(ciphertext)\n",
    "plaintext, registers = vmpc_decrypt(ciphertext, key, num_iterations)\n",
    "print(f\"Ciphertext    : {ciphertext.hex()}\")\n",
    "print(f\"Kunci         : {key}\")\n",
    "print(f\"Jumlah Iterasi: {num_iterations}\")\n",
    "print(f\"Ciphertext hex: {ciphertext.hex()}\")\n",
    "print(f\"Registers     : {registers.hex()}\")\n",
    "print(f\"Plaintext     : {plaintext}\")"
   ]
  }
 ],
 "metadata": {
  "kernelspec": {
   "display_name": "Python 3",
   "language": "python",
   "name": "python3"
  },
  "language_info": {
   "codemirror_mode": {
    "name": "ipython",
    "version": 3
   },
   "file_extension": ".py",
   "mimetype": "text/x-python",
   "name": "python",
   "nbconvert_exporter": "python",
   "pygments_lexer": "ipython3",
   "version": "3.11.5"
  }
 },
 "nbformat": 4,
 "nbformat_minor": 2
}
