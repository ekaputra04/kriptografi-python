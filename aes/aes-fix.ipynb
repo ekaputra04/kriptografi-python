{
 "cells": [
  {
   "cell_type": "code",
   "execution_count": 1,
   "metadata": {},
   "outputs": [
    {
     "name": "stdout",
     "output_type": "stream",
     "text": [
      "Plain Text: Ini adalah contoh teks yang akan dienkripsi.\n",
      "Cipher Text: +eLWyNKcE64ZNeysA/vd+A==gPBInOs6iZ9MwvVyE5OSx/zAUIcYr5c6fNSlJgsXh4cH179/pwm22XSFEbXINh3i\n",
      "Decrypted Text: Ini adalah contoh teks yang akan dienkripsi.\n"
     ]
    }
   ],
   "source": [
    "from Crypto.Cipher import AES\n",
    "from Crypto.Random import get_random_bytes\n",
    "import base64\n",
    "\n",
    "def pad(data):\n",
    "    # Padding untuk memastikan data sesuai dengan ukuran blok AES (16 byte)\n",
    "    pad_len = 16 - len(data) % 16\n",
    "    return data + (chr(pad_len) * pad_len).encode()\n",
    "\n",
    "def unpad(data):\n",
    "    # Menghapus padding setelah dekripsi\n",
    "    pad_len = data[-1]\n",
    "    return data[:-pad_len]\n",
    "\n",
    "def encrypt(plain_text, key):\n",
    "    # Inisialisasi cipher AES dalam mode CBC\n",
    "    cipher = AES.new(key, AES.MODE_CBC)\n",
    "    ct_bytes = cipher.encrypt(pad(plain_text.encode()))\n",
    "    iv = base64.b64encode(cipher.iv).decode('utf-8')\n",
    "    ct = base64.b64encode(ct_bytes).decode('utf-8')\n",
    "    return iv + ct\n",
    "\n",
    "def decrypt(cipher_text, key):\n",
    "    # Decode IV dan ciphertext dari format base64\n",
    "    iv = base64.b64decode(cipher_text[:24])\n",
    "    ct = base64.b64decode(cipher_text[24:])\n",
    "    # Inisialisasi cipher AES dalam mode CBC dengan IV yang didapatkan\n",
    "    cipher = AES.new(key, AES.MODE_CBC, iv)\n",
    "    pt = unpad(cipher.decrypt(ct))\n",
    "    return pt.decode('utf-8')\n",
    "\n",
    "# Contoh penggunaan\n",
    "key = get_random_bytes(16)  # AES-128 key (16 byte)\n",
    "plain_text = \"Ini adalah contoh teks yang akan dienkripsi.\"\n",
    "print(f\"Plain Text: {plain_text}\")\n",
    "\n",
    "# Enkripsi\n",
    "cipher_text = encrypt(plain_text, key)\n",
    "print(f\"Cipher Text: {cipher_text}\")\n",
    "\n",
    "# Dekripsi\n",
    "decrypted_text = decrypt(cipher_text, key)\n",
    "print(f\"Decrypted Text: {decrypted_text}\")\n"
   ]
  }
 ],
 "metadata": {
  "kernelspec": {
   "display_name": "Python 3",
   "language": "python",
   "name": "python3"
  },
  "language_info": {
   "codemirror_mode": {
    "name": "ipython",
    "version": 3
   },
   "file_extension": ".py",
   "mimetype": "text/x-python",
   "name": "python",
   "nbconvert_exporter": "python",
   "pygments_lexer": "ipython3",
   "version": "3.11.5"
  }
 },
 "nbformat": 4,
 "nbformat_minor": 2
}
