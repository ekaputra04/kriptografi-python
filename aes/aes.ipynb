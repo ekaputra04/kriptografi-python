{
 "cells": [
  {
   "cell_type": "markdown",
   "metadata": {},
   "source": [
    "# Advanched Encryption Standard\n",
    "\n",
    "## Study Case"
   ]
  },
  {
   "cell_type": "code",
   "execution_count": 32,
   "metadata": {},
   "outputs": [],
   "source": [
    "def ascii_to_hex(ascii_string):\n",
    "    hex_values = []\n",
    "    for char in ascii_string:\n",
    "        hex_value = hex(ord(char))[2:].zfill(2)  # Mengonversi karakter ke heksadesimal\n",
    "        hex_values.append(hex_value)\n",
    "    return ''.join(hex_values)"
   ]
  },
  {
   "cell_type": "code",
   "execution_count": 33,
   "metadata": {},
   "outputs": [],
   "source": [
    "def separate_hex_string(hex_str):\n",
    "    separated_hex = ' '.join([hex_str[i:i+2] for i in range(0, len(hex_str), 2)])\n",
    "    return separated_hex"
   ]
  },
  {
   "cell_type": "code",
   "execution_count": 34,
   "metadata": {},
   "outputs": [],
   "source": [
    "def print_hex_square(hex_str):\n",
    "    separated_hex = [hex_str[i:i+2] for i in range(0, len(hex_str), 2)]\n",
    "\n",
    "    # Menampilkan persegi 4x4\n",
    "    for row in range(4):\n",
    "        for col in range(4):\n",
    "            index = row + col * 4\n",
    "            print(separated_hex[index], end=\" \")\n",
    "        print()"
   ]
  },
  {
   "cell_type": "markdown",
   "metadata": {},
   "source": [
    "#### Convert plaintext to hex"
   ]
  },
  {
   "cell_type": "code",
   "execution_count": 35,
   "metadata": {},
   "outputs": [
    {
     "name": "stdout",
     "output_type": "stream",
     "text": [
      "Plaintext ASCII: ARIANDOHAREDISON\n",
      "Representasi Heksadesimal: 41 52 49 41 4e 44 4f 48 41 52 45 44 49 53 4f 4e\n",
      "Penulisan dalam tabel:\n",
      "41 4e 41 49 \n",
      "52 44 52 53 \n",
      "49 4f 45 4f \n",
      "41 48 44 4e \n"
     ]
    }
   ],
   "source": [
    "plaintext = \"ARIANDOHAREDISON\"\n",
    "hex_plaintext = ascii_to_hex(plaintext)\n",
    "with_space_plaintext = separate_hex_string(hex_plaintext)\n",
    "print(f\"Plaintext ASCII: {plaintext}\")\n",
    "print(f\"Representasi Heksadesimal: {with_space_plaintext}\")\n",
    "print(\"Penulisan dalam tabel:\")\n",
    "print_hex_square(hex_plaintext)"
   ]
  },
  {
   "cell_type": "markdown",
   "metadata": {},
   "source": [
    "#### Convert key to hex"
   ]
  },
  {
   "cell_type": "code",
   "execution_count": 36,
   "metadata": {},
   "outputs": [
    {
     "name": "stdout",
     "output_type": "stream",
     "text": [
      "key ASCII: KRIPTOGRAFIAESKU\n",
      "Representasi Heksadesimal: 4b 52 49 50 54 4f 47 52 41 46 49 41 45 53 4b 55\n",
      "Penulisan dalam tabel:\n",
      "4b 54 41 45 \n",
      "52 4f 46 53 \n",
      "49 47 49 4b \n",
      "50 52 41 55 \n"
     ]
    }
   ],
   "source": [
    "key = \"KRIPTOGRAFIAESKU\"\n",
    "hex_key = ascii_to_hex(key)\n",
    "with_space_key = separate_hex_string(hex_key)\n",
    "print(f\"key ASCII: {key}\")\n",
    "print(f\"Representasi Heksadesimal: {with_space_key}\")\n",
    "print(\"Penulisan dalam tabel:\")\n",
    "print_hex_square(hex_key)"
   ]
  },
  {
   "cell_type": "markdown",
   "metadata": {},
   "source": [
    "#### XOR plaintext dan key"
   ]
  },
  {
   "cell_type": "code",
   "execution_count": 37,
   "metadata": {},
   "outputs": [],
   "source": [
    "def hex_to_bin(hex_str):\n",
    "    # Inisialisasi string biner kosong\n",
    "    bin_str = ''\n",
    "    \n",
    "    # Melakukan konversi setiap digit heksadesimal ke biner\n",
    "    for i in range(0, len(hex_str), 2):\n",
    "        # Mengambil setiap dua digit heksadesimal\n",
    "        hex_byte = hex_str[i:i+2]\n",
    "        \n",
    "        # Mengonversi nilai heksadesimal ke desimal\n",
    "        decimal = int(hex_byte, 16)\n",
    "        \n",
    "        # Mengonversi nilai desimal ke biner (8 bit)\n",
    "        bin_val = bin(decimal)[2:].zfill(8)\n",
    "        \n",
    "        # Menggabungkan bit-bit biner ke string biner\n",
    "        bin_str += bin_val\n",
    "    \n",
    "    return bin_str"
   ]
  },
  {
   "cell_type": "code",
   "execution_count": 43,
   "metadata": {},
   "outputs": [
    {
     "data": {
      "text/plain": [
       "'01000001010100100100100101000001010011100100010001001111010010000100000101010010010001010100010001001001010100110100111101001110'"
      ]
     },
     "execution_count": 43,
     "metadata": {},
     "output_type": "execute_result"
    }
   ],
   "source": [
    "bin_plaintext = hex_to_bin(hex_plaintext)\n",
    "bin_plaintext"
   ]
  }
 ],
 "metadata": {
  "kernelspec": {
   "display_name": "Python 3",
   "language": "python",
   "name": "python3"
  },
  "language_info": {
   "codemirror_mode": {
    "name": "ipython",
    "version": 3
   },
   "file_extension": ".py",
   "mimetype": "text/x-python",
   "name": "python",
   "nbconvert_exporter": "python",
   "pygments_lexer": "ipython3",
   "version": "3.11.5"
  }
 },
 "nbformat": 4,
 "nbformat_minor": 2
}
